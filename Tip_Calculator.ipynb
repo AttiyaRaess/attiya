{
  "nbformat": 4,
  "nbformat_minor": 0,
  "metadata": {
    "colab": {
      "provenance": [],
      "authorship_tag": "ABX9TyPT2zhtIKxeGE7fuh5GB9PS",
      "include_colab_link": true
    },
    "kernelspec": {
      "name": "python3",
      "display_name": "Python 3"
    },
    "language_info": {
      "name": "python"
    }
  },
  "cells": [
    {
      "cell_type": "markdown",
      "metadata": {
        "id": "view-in-github",
        "colab_type": "text"
      },
      "source": [
        "<a href=\"https://colab.research.google.com/github/AttiyaRaess/attiya/blob/main/Tip_Calculator.ipynb\" target=\"_parent\"><img src=\"https://colab.research.google.com/assets/colab-badge.svg\" alt=\"Open In Colab\"/></a>"
      ]
    },
    {
      "cell_type": "code",
      "execution_count": 2,
      "metadata": {
        "colab": {
          "base_uri": "https://localhost:8080/"
        },
        "id": "86fMw_797uVY",
        "outputId": "b775dc7f-26f9-41f9-820b-fabb3001e0c6"
      },
      "outputs": [
        {
          "output_type": "stream",
          "name": "stdout",
          "text": [
            "welcome to tip calculator!\n",
            "What is your total bill? $1000\n",
            "How much tip would like you give? 10% , 12%, 15%?10\n",
            "How many people to split the bill?5\n",
            "220.0\n"
          ]
        }
      ],
      "source": [
        "print(\"welcome to tip calculator!\")\n",
        "bill=float(input(\"What is your total bill? $\"))\n",
        "tip=int(input(\"How much tip would like you give? 10% , 12%, 15%?\"))\n",
        "people=int(input(\"How many people to split the bill?\"))\n",
        "\n",
        "tippercent=tip/100\n",
        "totaltip=bill*tippercent\n",
        "totalbill=bill+totaltip\n",
        "billperperson=totalbill/people\n",
        "finalamount=round(billperperson,1)\n",
        "print(finalamount)"
      ]
    }
  ]
}
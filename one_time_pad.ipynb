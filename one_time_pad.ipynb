{
  "nbformat": 4,
  "nbformat_minor": 0,
  "metadata": {
    "colab": {
      "provenance": [],
      "toc_visible": true,
      "authorship_tag": "ABX9TyNMqmCLwn0PRm8CYuTHPhRm",
      "include_colab_link": true
    },
    "kernelspec": {
      "name": "python3",
      "display_name": "Python 3"
    },
    "language_info": {
      "name": "python"
    }
  },
  "cells": [
    {
      "cell_type": "markdown",
      "metadata": {
        "id": "view-in-github",
        "colab_type": "text"
      },
      "source": [
        "<a href=\"https://colab.research.google.com/github/AttiyaRaess/attiya/blob/main/one_time_pad.ipynb\" target=\"_parent\"><img src=\"https://colab.research.google.com/assets/colab-badge.svg\" alt=\"Open In Colab\"/></a>"
      ]
    },
    {
      "cell_type": "code",
      "execution_count": null,
      "metadata": {
        "colab": {
          "base_uri": "https://localhost:8080/"
        },
        "id": "FsDuzWjaEOxJ",
        "outputId": "7893a8b9-5f5a-4896-a338-64fb3fae85cc"
      },
      "outputs": [
        {
          "output_type": "stream",
          "name": "stdout",
          "text": [
            "ONE TIME PAD ALGORITHM\n"
          ]
        }
      ],
      "source": [
        "print(\"ONE TIME PAD ALGORITHM\")"
      ]
    },
    {
      "cell_type": "code",
      "source": [
        "\n",
        "import string\n",
        "\n",
        "def one_time_pad(message, key):\n",
        "    message = message.upper().replace(\" \", \"\")  # convert message to uppercase and remove spaces\n",
        "    key = key.upper()  # convert key to uppercase\n",
        "    alphabet = string.ascii_uppercase  # get the uppercase alphabet\n",
        "    encrypted = \"\"\n",
        "    decrypted = \"\"\n",
        "    for m, k in zip(message, key):\n",
        "        # get the index of the character in the alphabet\n",
        "        m_index = alphabet.index(m)\n",
        "        k_index = alphabet.index(k)\n",
        "        # add the index of the character in the alphabet and the key modulo 26\n",
        "        # to get the index of the encrypted character\n",
        "        e_index = (m_index + k_index) % 26\n",
        "        # get the character at the encrypted index in the alphabet\n",
        "        encrypted += alphabet[e_index]\n",
        "        # subtract the key from the index of the encrypted character modulo 26\n",
        "        # to get the index of the decrypted character\n",
        "        d_index = (e_index - k_index) % 26\n",
        "        # get the character at the decrypted index in the alphabet\n",
        "        decrypted += alphabet[d_index]\n",
        "    return encrypted, decrypted\n",
        "\n",
        "def main():\n",
        "    message = input(\"Enter a message: \")\n",
        "    key = input(\"Enter a key of the same length as the message: \")\n",
        "    encrypted, decrypted = one_time_pad(message, key)\n",
        "    print(\"Encrypted message:\", encrypted)\n",
        "    print(\"Decrypted message:\", decrypted)\n",
        "\n",
        "if __name__ == '__main__':\n",
        "    main()"
      ],
      "metadata": {
        "colab": {
          "base_uri": "https://localhost:8080/"
        },
        "id": "Mzl2ltaJQ1wE",
        "outputId": "d444e646-ae1f-4705-fb45-2a1a996282d8"
      },
      "execution_count": null,
      "outputs": [
        {
          "output_type": "stream",
          "name": "stdout",
          "text": [
            "Enter a message: Hello\n",
            "Enter a key of the same length as the message: abxyc\n",
            "Encrypted message: HFIJQ\n",
            "Decrypted message: HELLO\n"
          ]
        }
      ]
    }
  ]
}